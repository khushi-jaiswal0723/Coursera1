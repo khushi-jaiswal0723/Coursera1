{
 "cells": [
  {
   "cell_type": "markdown",
   "id": "9958d43e-a3a2-40f4-9765-293910576427",
   "metadata": {},
   "source": [
    "# Pandas Library in Python for Data Science"
   ]
  },
  {
   "cell_type": "markdown",
   "id": "cb088afd-5a81-4216-a196-595b4af8f845",
   "metadata": {},
   "source": [
    "Pandas is a Python Library used for working with data sets. It has functions for analyzing,cleaning,exploring and manipulating data."
   ]
  },
  {
   "cell_type": "code",
   "execution_count": 11,
   "id": "7fb4192d-457f-4658-9d0b-2d785bbfadc9",
   "metadata": {},
   "outputs": [],
   "source": [
    "# To use Pandas, we import:\n",
    "import pandas as pd\n",
    "# Since writing pandas again and again is a tedious task. Therefore we will call pandas as pd. "
   ]
  },
  {
   "cell_type": "markdown",
   "id": "69104145-310d-44b4-927a-a89c6012176c",
   "metadata": {},
   "source": [
    "### To create Dataframe from dictonary : \n",
    "1. Create Dictonary with column name as your key and row elements of that column as your values in a list.\n",
    "2. Use _pd.DataFrame(dictonary name)_"
   ]
  },
  {
   "cell_type": "code",
   "execution_count": 187,
   "id": "f95a10ba-9a9c-43d1-9a11-7f72035e0ecd",
   "metadata": {},
   "outputs": [
    {
     "data": {
      "text/html": [
       "<div>\n",
       "<style scoped>\n",
       "    .dataframe tbody tr th:only-of-type {\n",
       "        vertical-align: middle;\n",
       "    }\n",
       "\n",
       "    .dataframe tbody tr th {\n",
       "        vertical-align: top;\n",
       "    }\n",
       "\n",
       "    .dataframe thead th {\n",
       "        text-align: right;\n",
       "    }\n",
       "</style>\n",
       "<table border=\"1\" class=\"dataframe\">\n",
       "  <thead>\n",
       "    <tr style=\"text-align: right;\">\n",
       "      <th></th>\n",
       "      <th>name</th>\n",
       "      <th>age</th>\n",
       "    </tr>\n",
       "  </thead>\n",
       "  <tbody>\n",
       "    <tr>\n",
       "      <th>0</th>\n",
       "      <td>nick</td>\n",
       "      <td>5</td>\n",
       "    </tr>\n",
       "    <tr>\n",
       "      <th>1</th>\n",
       "      <td>david</td>\n",
       "      <td>10</td>\n",
       "    </tr>\n",
       "    <tr>\n",
       "      <th>2</th>\n",
       "      <td>joe</td>\n",
       "      <td>5</td>\n",
       "    </tr>\n",
       "    <tr>\n",
       "      <th>3</th>\n",
       "      <td>ross</td>\n",
       "      <td>6</td>\n",
       "    </tr>\n",
       "  </tbody>\n",
       "</table>\n",
       "</div>"
      ],
      "text/plain": [
       "    name age\n",
       "0   nick   5\n",
       "1  david  10\n",
       "2    joe   5\n",
       "3   ross   6"
      ]
     },
     "execution_count": 187,
     "metadata": {},
     "output_type": "execute_result"
    }
   ],
   "source": [
    "data = {'name': ['nick', 'david', 'joe', 'ross'],'age': ['5', '10', '5', '6']}\n",
    "data = pd.DataFrame(data)\n",
    "data"
   ]
  },
  {
   "cell_type": "markdown",
   "id": "b9cef363-7cff-4081-bde3-4870301ac380",
   "metadata": {},
   "source": [
    "* To extract any column to work with:\n",
    "**Dataframe name[[\"column name\"]]**"
   ]
  },
  {
   "cell_type": "code",
   "execution_count": 59,
   "id": "e2d590b4-e4d6-4cd7-8a55-67bce6d97185",
   "metadata": {},
   "outputs": [
    {
     "data": {
      "text/html": [
       "<div>\n",
       "<style scoped>\n",
       "    .dataframe tbody tr th:only-of-type {\n",
       "        vertical-align: middle;\n",
       "    }\n",
       "\n",
       "    .dataframe tbody tr th {\n",
       "        vertical-align: top;\n",
       "    }\n",
       "\n",
       "    .dataframe thead th {\n",
       "        text-align: right;\n",
       "    }\n",
       "</style>\n",
       "<table border=\"1\" class=\"dataframe\">\n",
       "  <thead>\n",
       "    <tr style=\"text-align: right;\">\n",
       "      <th></th>\n",
       "      <th>age</th>\n",
       "    </tr>\n",
       "  </thead>\n",
       "  <tbody>\n",
       "    <tr>\n",
       "      <th>0</th>\n",
       "      <td>5</td>\n",
       "    </tr>\n",
       "    <tr>\n",
       "      <th>1</th>\n",
       "      <td>10</td>\n",
       "    </tr>\n",
       "    <tr>\n",
       "      <th>2</th>\n",
       "      <td>5</td>\n",
       "    </tr>\n",
       "    <tr>\n",
       "      <th>3</th>\n",
       "      <td>6</td>\n",
       "    </tr>\n",
       "  </tbody>\n",
       "</table>\n",
       "</div>"
      ],
      "text/plain": [
       "  age\n",
       "0   5\n",
       "1  10\n",
       "2   5\n",
       "3   6"
      ]
     },
     "execution_count": 59,
     "metadata": {},
     "output_type": "execute_result"
    }
   ],
   "source": [
    "x=data[[\"age\"]]\n",
    "x"
   ]
  },
  {
   "cell_type": "markdown",
   "id": "2b73f2a6-6a3c-4f98-b1bb-a996962f552b",
   "metadata": {},
   "source": [
    "* To extract multiple columns: **Dataframe name[[\"C1\",\"C2\",\"C3\",.......,\"Cn\"]]**"
   ]
  },
  {
   "cell_type": "code",
   "execution_count": 61,
   "id": "5d859748-dc1f-4387-a0d1-9c3ba2159ac2",
   "metadata": {},
   "outputs": [
    {
     "data": {
      "text/html": [
       "<div>\n",
       "<style scoped>\n",
       "    .dataframe tbody tr th:only-of-type {\n",
       "        vertical-align: middle;\n",
       "    }\n",
       "\n",
       "    .dataframe tbody tr th {\n",
       "        vertical-align: top;\n",
       "    }\n",
       "\n",
       "    .dataframe thead th {\n",
       "        text-align: right;\n",
       "    }\n",
       "</style>\n",
       "<table border=\"1\" class=\"dataframe\">\n",
       "  <thead>\n",
       "    <tr style=\"text-align: right;\">\n",
       "      <th></th>\n",
       "      <th>age</th>\n",
       "      <th>name</th>\n",
       "    </tr>\n",
       "  </thead>\n",
       "  <tbody>\n",
       "    <tr>\n",
       "      <th>0</th>\n",
       "      <td>5</td>\n",
       "      <td>nick</td>\n",
       "    </tr>\n",
       "    <tr>\n",
       "      <th>1</th>\n",
       "      <td>10</td>\n",
       "      <td>david</td>\n",
       "    </tr>\n",
       "    <tr>\n",
       "      <th>2</th>\n",
       "      <td>5</td>\n",
       "      <td>joe</td>\n",
       "    </tr>\n",
       "    <tr>\n",
       "      <th>3</th>\n",
       "      <td>6</td>\n",
       "      <td>ross</td>\n",
       "    </tr>\n",
       "  </tbody>\n",
       "</table>\n",
       "</div>"
      ],
      "text/plain": [
       "  age   name\n",
       "0   5   nick\n",
       "1  10  david\n",
       "2   5    joe\n",
       "3   6   ross"
      ]
     },
     "execution_count": 61,
     "metadata": {},
     "output_type": "execute_result"
    }
   ],
   "source": [
    "y=data[[\"age\",\"name\"]]\n",
    "y\n"
   ]
  },
  {
   "cell_type": "markdown",
   "id": "bcf38aac-584d-4b23-9280-de942be790f5",
   "metadata": {},
   "source": [
    "* To extract element using its row and column index : **Dataframe name.iloc[row index,column index]**"
   ]
  },
  {
   "cell_type": "code",
   "execution_count": 63,
   "id": "84daed3e-c72e-487d-be86-e0dd6ab5f4a6",
   "metadata": {},
   "outputs": [
    {
     "data": {
      "text/plain": [
       "'5'"
      ]
     },
     "execution_count": 63,
     "metadata": {},
     "output_type": "execute_result"
    }
   ],
   "source": [
    "data.iloc[0,1]"
   ]
  },
  {
   "cell_type": "code",
   "execution_count": 65,
   "id": "0835dad4-ac89-4efc-9af7-0646cb5614e6",
   "metadata": {},
   "outputs": [
    {
     "data": {
      "text/plain": [
       "name    joe\n",
       "age       5\n",
       "Name: 2, dtype: object"
      ]
     },
     "execution_count": 65,
     "metadata": {},
     "output_type": "execute_result"
    }
   ],
   "source": [
    "data.iloc[2]"
   ]
  },
  {
   "cell_type": "code",
   "execution_count": 67,
   "id": "7bd9a746-a675-4255-9a83-a6d3ea858536",
   "metadata": {},
   "outputs": [
    {
     "data": {
      "text/plain": [
       "'david'"
      ]
     },
     "execution_count": 67,
     "metadata": {},
     "output_type": "execute_result"
    }
   ],
   "source": [
    "data.iloc[1,0]"
   ]
  },
  {
   "cell_type": "code",
   "execution_count": 69,
   "id": "a089f101-b2f8-4eb1-8129-43faed6ac331",
   "metadata": {},
   "outputs": [
    {
     "data": {
      "text/html": [
       "<div>\n",
       "<style scoped>\n",
       "    .dataframe tbody tr th:only-of-type {\n",
       "        vertical-align: middle;\n",
       "    }\n",
       "\n",
       "    .dataframe tbody tr th {\n",
       "        vertical-align: top;\n",
       "    }\n",
       "\n",
       "    .dataframe thead th {\n",
       "        text-align: right;\n",
       "    }\n",
       "</style>\n",
       "<table border=\"1\" class=\"dataframe\">\n",
       "  <thead>\n",
       "    <tr style=\"text-align: right;\">\n",
       "      <th></th>\n",
       "      <th>name</th>\n",
       "      <th>age</th>\n",
       "    </tr>\n",
       "  </thead>\n",
       "  <tbody>\n",
       "    <tr>\n",
       "      <th>0</th>\n",
       "      <td>nick</td>\n",
       "      <td>5</td>\n",
       "    </tr>\n",
       "    <tr>\n",
       "      <th>1</th>\n",
       "      <td>david</td>\n",
       "      <td>10</td>\n",
       "    </tr>\n",
       "    <tr>\n",
       "      <th>2</th>\n",
       "      <td>joe</td>\n",
       "      <td>5</td>\n",
       "    </tr>\n",
       "  </tbody>\n",
       "</table>\n",
       "</div>"
      ],
      "text/plain": [
       "    name age\n",
       "0   nick   5\n",
       "1  david  10\n",
       "2    joe   5"
      ]
     },
     "execution_count": 69,
     "metadata": {},
     "output_type": "execute_result"
    }
   ],
   "source": [
    "# To slice data frame via indexing.\n",
    "data.iloc[0:3,0:2]"
   ]
  },
  {
   "cell_type": "markdown",
   "id": "a355f37b-b241-4a27-9f17-8358459cb324",
   "metadata": {},
   "source": [
    "* To change dataframe's index: **Dataframe name.index=[list of new index]**"
   ]
  },
  {
   "cell_type": "code",
   "execution_count": 81,
   "id": "76627d70-d480-4769-9d54-6203abe73fca",
   "metadata": {},
   "outputs": [
    {
     "data": {
      "text/html": [
       "<div>\n",
       "<style scoped>\n",
       "    .dataframe tbody tr th:only-of-type {\n",
       "        vertical-align: middle;\n",
       "    }\n",
       "\n",
       "    .dataframe tbody tr th {\n",
       "        vertical-align: top;\n",
       "    }\n",
       "\n",
       "    .dataframe thead th {\n",
       "        text-align: right;\n",
       "    }\n",
       "</style>\n",
       "<table border=\"1\" class=\"dataframe\">\n",
       "  <thead>\n",
       "    <tr style=\"text-align: right;\">\n",
       "      <th></th>\n",
       "      <th>name</th>\n",
       "      <th>age</th>\n",
       "    </tr>\n",
       "  </thead>\n",
       "  <tbody>\n",
       "    <tr>\n",
       "      <th>a</th>\n",
       "      <td>nick</td>\n",
       "      <td>5</td>\n",
       "    </tr>\n",
       "    <tr>\n",
       "      <th>b</th>\n",
       "      <td>david</td>\n",
       "      <td>10</td>\n",
       "    </tr>\n",
       "    <tr>\n",
       "      <th>c</th>\n",
       "      <td>joe</td>\n",
       "      <td>5</td>\n",
       "    </tr>\n",
       "    <tr>\n",
       "      <th>d</th>\n",
       "      <td>ross</td>\n",
       "      <td>6</td>\n",
       "    </tr>\n",
       "  </tbody>\n",
       "</table>\n",
       "</div>"
      ],
      "text/plain": [
       "    name age\n",
       "a   nick   5\n",
       "b  david  10\n",
       "c    joe   5\n",
       "d   ross   6"
      ]
     },
     "execution_count": 81,
     "metadata": {},
     "output_type": "execute_result"
    }
   ],
   "source": [
    "data_new =data\n",
    "data_new.index=['a','b','c','d']\n",
    "data_new"
   ]
  },
  {
   "cell_type": "code",
   "execution_count": 83,
   "id": "473151dd-c7d9-459c-8ae5-6268ae7729ae",
   "metadata": {},
   "outputs": [
    {
     "data": {
      "text/html": [
       "<div>\n",
       "<style scoped>\n",
       "    .dataframe tbody tr th:only-of-type {\n",
       "        vertical-align: middle;\n",
       "    }\n",
       "\n",
       "    .dataframe tbody tr th {\n",
       "        vertical-align: top;\n",
       "    }\n",
       "\n",
       "    .dataframe thead th {\n",
       "        text-align: right;\n",
       "    }\n",
       "</style>\n",
       "<table border=\"1\" class=\"dataframe\">\n",
       "  <thead>\n",
       "    <tr style=\"text-align: right;\">\n",
       "      <th></th>\n",
       "      <th>name</th>\n",
       "      <th>age</th>\n",
       "    </tr>\n",
       "  </thead>\n",
       "  <tbody>\n",
       "    <tr>\n",
       "      <th>9</th>\n",
       "      <td>nick</td>\n",
       "      <td>5</td>\n",
       "    </tr>\n",
       "    <tr>\n",
       "      <th>10</th>\n",
       "      <td>david</td>\n",
       "      <td>10</td>\n",
       "    </tr>\n",
       "    <tr>\n",
       "      <th>12</th>\n",
       "      <td>joe</td>\n",
       "      <td>5</td>\n",
       "    </tr>\n",
       "    <tr>\n",
       "      <th>13</th>\n",
       "      <td>ross</td>\n",
       "      <td>6</td>\n",
       "    </tr>\n",
       "  </tbody>\n",
       "</table>\n",
       "</div>"
      ],
      "text/plain": [
       "     name age\n",
       "9    nick   5\n",
       "10  david  10\n",
       "12    joe   5\n",
       "13   ross   6"
      ]
     },
     "execution_count": 83,
     "metadata": {},
     "output_type": "execute_result"
    }
   ],
   "source": [
    "data.index=[9,10,12,13]\n",
    "data"
   ]
  },
  {
   "cell_type": "markdown",
   "id": "2d2d464d-9e46-4ff4-8892-06bb497b9e50",
   "metadata": {},
   "source": [
    "* To make any row your index: **Dataframe name.set_index(\"row name\")**"
   ]
  },
  {
   "cell_type": "code",
   "execution_count": 156,
   "id": "ae743e69-2f65-4297-a9bf-3db43859fdce",
   "metadata": {},
   "outputs": [
    {
     "data": {
      "text/html": [
       "<div>\n",
       "<style scoped>\n",
       "    .dataframe tbody tr th:only-of-type {\n",
       "        vertical-align: middle;\n",
       "    }\n",
       "\n",
       "    .dataframe tbody tr th {\n",
       "        vertical-align: top;\n",
       "    }\n",
       "\n",
       "    .dataframe thead th {\n",
       "        text-align: right;\n",
       "    }\n",
       "</style>\n",
       "<table border=\"1\" class=\"dataframe\">\n",
       "  <thead>\n",
       "    <tr style=\"text-align: right;\">\n",
       "      <th></th>\n",
       "      <th>name</th>\n",
       "    </tr>\n",
       "    <tr>\n",
       "      <th>age</th>\n",
       "      <th></th>\n",
       "    </tr>\n",
       "  </thead>\n",
       "  <tbody>\n",
       "    <tr>\n",
       "      <th>5</th>\n",
       "      <td>nick</td>\n",
       "    </tr>\n",
       "    <tr>\n",
       "      <th>10</th>\n",
       "      <td>david</td>\n",
       "    </tr>\n",
       "    <tr>\n",
       "      <th>5</th>\n",
       "      <td>joe</td>\n",
       "    </tr>\n",
       "    <tr>\n",
       "      <th>6</th>\n",
       "      <td>ross</td>\n",
       "    </tr>\n",
       "  </tbody>\n",
       "</table>\n",
       "</div>"
      ],
      "text/plain": [
       "      name\n",
       "age       \n",
       "5     nick\n",
       "10   david\n",
       "5      joe\n",
       "6     ross"
      ]
     },
     "execution_count": 156,
     "metadata": {},
     "output_type": "execute_result"
    }
   ],
   "source": [
    "data.set_index('age')"
   ]
  },
  {
   "cell_type": "markdown",
   "id": "c6b0b27c-c90e-423f-8c88-4d4293817d79",
   "metadata": {},
   "source": [
    "**Q: How can we make this new data set our original data set?**"
   ]
  },
  {
   "cell_type": "markdown",
   "id": "207fddf7-bd4b-4955-b930-35dd4047ae26",
   "metadata": {},
   "source": [
    "**->Using inplace function, we can replace our newly formed data set with original one.**"
   ]
  },
  {
   "cell_type": "code",
   "execution_count": 166,
   "id": "d9e1495f-a31a-494b-8230-dc5f715bda2b",
   "metadata": {},
   "outputs": [
    {
     "data": {
      "text/html": [
       "<div>\n",
       "<style scoped>\n",
       "    .dataframe tbody tr th:only-of-type {\n",
       "        vertical-align: middle;\n",
       "    }\n",
       "\n",
       "    .dataframe tbody tr th {\n",
       "        vertical-align: top;\n",
       "    }\n",
       "\n",
       "    .dataframe thead th {\n",
       "        text-align: right;\n",
       "    }\n",
       "</style>\n",
       "<table border=\"1\" class=\"dataframe\">\n",
       "  <thead>\n",
       "    <tr style=\"text-align: right;\">\n",
       "      <th></th>\n",
       "      <th>name</th>\n",
       "    </tr>\n",
       "    <tr>\n",
       "      <th>age</th>\n",
       "      <th></th>\n",
       "    </tr>\n",
       "  </thead>\n",
       "  <tbody>\n",
       "    <tr>\n",
       "      <th>5</th>\n",
       "      <td>nick</td>\n",
       "    </tr>\n",
       "    <tr>\n",
       "      <th>10</th>\n",
       "      <td>david</td>\n",
       "    </tr>\n",
       "    <tr>\n",
       "      <th>5</th>\n",
       "      <td>joe</td>\n",
       "    </tr>\n",
       "    <tr>\n",
       "      <th>6</th>\n",
       "      <td>ross</td>\n",
       "    </tr>\n",
       "  </tbody>\n",
       "</table>\n",
       "</div>"
      ],
      "text/plain": [
       "      name\n",
       "age       \n",
       "5     nick\n",
       "10   david\n",
       "5      joe\n",
       "6     ross"
      ]
     },
     "execution_count": 166,
     "metadata": {},
     "output_type": "execute_result"
    }
   ],
   "source": [
    "data.set_index(\"age\",inplace=True)\n",
    "data"
   ]
  },
  {
   "cell_type": "markdown",
   "id": "1dcefe62-4870-4abf-af02-2222c7c97857",
   "metadata": {},
   "source": [
    "* To use your original data set/ reverse index changes: **Dataframe name.reset_index(inplace=True)**"
   ]
  },
  {
   "cell_type": "code",
   "execution_count": 169,
   "id": "2f6afa92-9886-404b-9be2-8fcd158215c6",
   "metadata": {},
   "outputs": [
    {
     "data": {
      "text/html": [
       "<div>\n",
       "<style scoped>\n",
       "    .dataframe tbody tr th:only-of-type {\n",
       "        vertical-align: middle;\n",
       "    }\n",
       "\n",
       "    .dataframe tbody tr th {\n",
       "        vertical-align: top;\n",
       "    }\n",
       "\n",
       "    .dataframe thead th {\n",
       "        text-align: right;\n",
       "    }\n",
       "</style>\n",
       "<table border=\"1\" class=\"dataframe\">\n",
       "  <thead>\n",
       "    <tr style=\"text-align: right;\">\n",
       "      <th></th>\n",
       "      <th>age</th>\n",
       "      <th>name</th>\n",
       "    </tr>\n",
       "  </thead>\n",
       "  <tbody>\n",
       "    <tr>\n",
       "      <th>0</th>\n",
       "      <td>5</td>\n",
       "      <td>nick</td>\n",
       "    </tr>\n",
       "    <tr>\n",
       "      <th>1</th>\n",
       "      <td>10</td>\n",
       "      <td>david</td>\n",
       "    </tr>\n",
       "    <tr>\n",
       "      <th>2</th>\n",
       "      <td>5</td>\n",
       "      <td>joe</td>\n",
       "    </tr>\n",
       "    <tr>\n",
       "      <th>3</th>\n",
       "      <td>6</td>\n",
       "      <td>ross</td>\n",
       "    </tr>\n",
       "  </tbody>\n",
       "</table>\n",
       "</div>"
      ],
      "text/plain": [
       "  age   name\n",
       "0   5   nick\n",
       "1  10  david\n",
       "2   5    joe\n",
       "3   6   ross"
      ]
     },
     "execution_count": 169,
     "metadata": {},
     "output_type": "execute_result"
    }
   ],
   "source": [
    "data.reset_index(inplace=True)\n",
    "data\n",
    "#we have replaced the data set but set command still working which has set age as index"
   ]
  },
  {
   "cell_type": "markdown",
   "id": "2e94c880-7da7-484f-a9c2-d05bfb3ba88e",
   "metadata": {},
   "source": [
    "* To extract unique entries from a column : **Dataframe name['Column name'].unique()**"
   ]
  },
  {
   "cell_type": "code",
   "execution_count": 85,
   "id": "bec23ec7-e468-4b1d-89cd-04c71a80d191",
   "metadata": {},
   "outputs": [
    {
     "data": {
      "text/plain": [
       "array(['5', '10', '6'], dtype=object)"
      ]
     },
     "execution_count": 85,
     "metadata": {},
     "output_type": "execute_result"
    }
   ],
   "source": [
    "u=data['age'].unique()\n",
    "u"
   ]
  },
  {
   "cell_type": "markdown",
   "id": "b1f1634d-b63b-411e-a2c9-3848c6c488de",
   "metadata": {},
   "source": [
    "* To check specific condition: **dataframe name[\"Row/Col\"] comparison operator condition**"
   ]
  },
  {
   "cell_type": "code",
   "execution_count": 93,
   "id": "3eb118b8-1ac8-4cc7-9fd4-759d5db16b94",
   "metadata": {},
   "outputs": [
    {
     "data": {
      "text/plain": [
       "9     True\n",
       "10    True\n",
       "12    True\n",
       "13    True\n",
       "Name: age, dtype: bool"
      ]
     },
     "execution_count": 93,
     "metadata": {},
     "output_type": "execute_result"
    }
   ],
   "source": [
    "t1=data[\"age\"]>=5\n",
    "t1\n",
    "#it returns boolean value"
   ]
  },
  {
   "cell_type": "markdown",
   "id": "ca95fea0-9e7e-4645-b49d-5b5539162561",
   "metadata": {},
   "source": [
    "* To find maximum value in row from data set: **Dataframe name.row name.max()**"
   ]
  },
  {
   "cell_type": "code",
   "execution_count": 58,
   "id": "8afd3d22-b173-4483-bf23-c0bc8ce9ff32",
   "metadata": {},
   "outputs": [
    {
     "data": {
      "text/plain": [
       "'6'"
      ]
     },
     "execution_count": 58,
     "metadata": {},
     "output_type": "execute_result"
    }
   ],
   "source": [
    "data.age.max()"
   ]
  },
  {
   "cell_type": "markdown",
   "id": "fe54d235-31a5-42a2-9e1e-5e3e2dae3339",
   "metadata": {},
   "source": [
    "* To find minimum value from data set: **Dataframe name.row name.min()**"
   ]
  },
  {
   "cell_type": "code",
   "execution_count": 61,
   "id": "a66905b0-778e-4066-b3ab-a4043520e7f6",
   "metadata": {},
   "outputs": [
    {
     "data": {
      "text/plain": [
       "'10'"
      ]
     },
     "execution_count": 61,
     "metadata": {},
     "output_type": "execute_result"
    }
   ],
   "source": [
    "data.age.min()"
   ]
  },
  {
   "cell_type": "code",
   "execution_count": null,
   "id": "dceebfff-5e5a-4e47-990f-7bb0ef0079a2",
   "metadata": {},
   "outputs": [],
   "source": []
  },
  {
   "cell_type": "markdown",
   "id": "306306a2-be5c-4267-81df-88a51fa3b3d5",
   "metadata": {},
   "source": [
    "* To find mean value from data set: **Dataframe name.row name.mean()**"
   ]
  },
  {
   "cell_type": "code",
   "execution_count": 90,
   "id": "b24be3a2-607d-498c-93cc-93810ecc827f",
   "metadata": {},
   "outputs": [],
   "source": [
    "# Let's try to find mean and standard deviation of a data set"
   ]
  },
  {
   "cell_type": "code",
   "execution_count": 92,
   "id": "13685c51-f57a-428f-8c9e-fe4780643f35",
   "metadata": {},
   "outputs": [
    {
     "data": {
      "text/html": [
       "<div>\n",
       "<style scoped>\n",
       "    .dataframe tbody tr th:only-of-type {\n",
       "        vertical-align: middle;\n",
       "    }\n",
       "\n",
       "    .dataframe tbody tr th {\n",
       "        vertical-align: top;\n",
       "    }\n",
       "\n",
       "    .dataframe thead th {\n",
       "        text-align: right;\n",
       "    }\n",
       "</style>\n",
       "<table border=\"1\" class=\"dataframe\">\n",
       "  <thead>\n",
       "    <tr style=\"text-align: right;\">\n",
       "      <th></th>\n",
       "      <th>Driver</th>\n",
       "      <th>Points</th>\n",
       "    </tr>\n",
       "  </thead>\n",
       "  <tbody>\n",
       "    <tr>\n",
       "      <th>0</th>\n",
       "      <td>Hamilton</td>\n",
       "      <td>408</td>\n",
       "    </tr>\n",
       "    <tr>\n",
       "      <th>1</th>\n",
       "      <td>Vettel</td>\n",
       "      <td>320</td>\n",
       "    </tr>\n",
       "    <tr>\n",
       "      <th>2</th>\n",
       "      <td>Raikkonen</td>\n",
       "      <td>251</td>\n",
       "    </tr>\n",
       "    <tr>\n",
       "      <th>3</th>\n",
       "      <td>Verstappen</td>\n",
       "      <td>249</td>\n",
       "    </tr>\n",
       "    <tr>\n",
       "      <th>4</th>\n",
       "      <td>Bottas</td>\n",
       "      <td>247</td>\n",
       "    </tr>\n",
       "    <tr>\n",
       "      <th>5</th>\n",
       "      <td>Ricciardo</td>\n",
       "      <td>170</td>\n",
       "    </tr>\n",
       "  </tbody>\n",
       "</table>\n",
       "</div>"
      ],
      "text/plain": [
       "       Driver  Points\n",
       "0    Hamilton     408\n",
       "1      Vettel     320\n",
       "2   Raikkonen     251\n",
       "3  Verstappen     249\n",
       "4      Bottas     247\n",
       "5   Ricciardo     170"
      ]
     },
     "execution_count": 92,
     "metadata": {},
     "output_type": "execute_result"
    }
   ],
   "source": [
    "dict1 = {'Driver': ['Hamilton', 'Vettel', 'Raikkonen',\n",
    "                    'Verstappen', 'Bottas', 'Ricciardo'],\n",
    "        'Points': [408, 320, 251, 249, 247, 170]}\n",
    "dict1=pd.DataFrame(dict1)\n",
    "dict1\n"
   ]
  },
  {
   "cell_type": "markdown",
   "id": "7743001d-975b-4794-ac4d-92b3ffba7854",
   "metadata": {},
   "source": [
    "* To find mean of a rows: **Dataframe name.col name.mean()**"
   ]
  },
  {
   "cell_type": "code",
   "execution_count": 97,
   "id": "771f8cce-95d9-4345-9552-b41e387eedf4",
   "metadata": {},
   "outputs": [
    {
     "data": {
      "text/plain": [
       "274.1666666666667"
      ]
     },
     "execution_count": 97,
     "metadata": {},
     "output_type": "execute_result"
    }
   ],
   "source": [
    "dict1.Points.mean()"
   ]
  },
  {
   "cell_type": "markdown",
   "id": "a2b3d08c-6822-4449-be9c-0abb32c8e4a0",
   "metadata": {},
   "source": [
    "* To find standard deviation of a rows: **Dataframe name.col name.std()**"
   ]
  },
  {
   "cell_type": "code",
   "execution_count": 103,
   "id": "10c4be4f-5a90-419a-a885-08fca2632d06",
   "metadata": {},
   "outputs": [
    {
     "data": {
      "text/plain": [
       "80.95780794133859"
      ]
     },
     "execution_count": 103,
     "metadata": {},
     "output_type": "execute_result"
    }
   ],
   "source": [
    "dict1.Points.std()"
   ]
  },
  {
   "cell_type": "markdown",
   "id": "25f944d8-a4c6-46b0-85a5-341d0716df6c",
   "metadata": {},
   "source": [
    "* To get whole column where certain condition is met: **Dataframe name[Dataframe name[Condition]]**"
   ]
  },
  {
   "cell_type": "code",
   "execution_count": 116,
   "id": "36ed00e5-0929-4487-a98c-e3001a754806",
   "metadata": {},
   "outputs": [
    {
     "data": {
      "text/html": [
       "<div>\n",
       "<style scoped>\n",
       "    .dataframe tbody tr th:only-of-type {\n",
       "        vertical-align: middle;\n",
       "    }\n",
       "\n",
       "    .dataframe tbody tr th {\n",
       "        vertical-align: top;\n",
       "    }\n",
       "\n",
       "    .dataframe thead th {\n",
       "        text-align: right;\n",
       "    }\n",
       "</style>\n",
       "<table border=\"1\" class=\"dataframe\">\n",
       "  <thead>\n",
       "    <tr style=\"text-align: right;\">\n",
       "      <th></th>\n",
       "      <th>Driver</th>\n",
       "      <th>Points</th>\n",
       "    </tr>\n",
       "  </thead>\n",
       "  <tbody>\n",
       "    <tr>\n",
       "      <th>0</th>\n",
       "      <td>Hamilton</td>\n",
       "      <td>408</td>\n",
       "    </tr>\n",
       "  </tbody>\n",
       "</table>\n",
       "</div>"
      ],
      "text/plain": [
       "     Driver  Points\n",
       "0  Hamilton     408"
      ]
     },
     "execution_count": 116,
     "metadata": {},
     "output_type": "execute_result"
    }
   ],
   "source": [
    "dict1[dict1.Points==dict1.Points.max()]"
   ]
  },
  {
   "cell_type": "markdown",
   "id": "b8a3ce1f-1b35-4c59-ba56-a4107a87831a",
   "metadata": {},
   "source": [
    "* To get specific row where condition meet:**DataFrame name[['row you want to display']][condition]**"
   ]
  },
  {
   "cell_type": "code",
   "execution_count": 122,
   "id": "176e6d86-32e5-487c-99ea-a0564a21702d",
   "metadata": {},
   "outputs": [
    {
     "data": {
      "text/html": [
       "<div>\n",
       "<style scoped>\n",
       "    .dataframe tbody tr th:only-of-type {\n",
       "        vertical-align: middle;\n",
       "    }\n",
       "\n",
       "    .dataframe tbody tr th {\n",
       "        vertical-align: top;\n",
       "    }\n",
       "\n",
       "    .dataframe thead th {\n",
       "        text-align: right;\n",
       "    }\n",
       "</style>\n",
       "<table border=\"1\" class=\"dataframe\">\n",
       "  <thead>\n",
       "    <tr style=\"text-align: right;\">\n",
       "      <th></th>\n",
       "      <th>Driver</th>\n",
       "    </tr>\n",
       "  </thead>\n",
       "  <tbody>\n",
       "    <tr>\n",
       "      <th>0</th>\n",
       "      <td>Hamilton</td>\n",
       "    </tr>\n",
       "  </tbody>\n",
       "</table>\n",
       "</div>"
      ],
      "text/plain": [
       "     Driver\n",
       "0  Hamilton"
      ]
     },
     "execution_count": 122,
     "metadata": {},
     "output_type": "execute_result"
    }
   ],
   "source": [
    "dict1[[\"Driver\"]][dict1.Points==dict1.Points.max()]\n",
    "# remember: [[\"Row\"]]"
   ]
  },
  {
   "cell_type": "markdown",
   "id": "97ecc4fa-19ff-4897-8848-eb8baada48c4",
   "metadata": {},
   "source": [
    "### Using CSV and Excel Files to Work with data:"
   ]
  },
  {
   "cell_type": "markdown",
   "id": "156cf459-0dbd-45ea-9e30-d910c0305fd4",
   "metadata": {},
   "source": [
    "To extract csv file and use its data:\n",
    "**pd.read_csv(\"File Path\")**"
   ]
  },
  {
   "cell_type": "markdown",
   "id": "9a41796f-821e-40f0-97e7-ea6fa13399a3",
   "metadata": {},
   "source": [
    "To extract excel file and use its data:\n",
    "**pd.read_excel(\"File Path\")**"
   ]
  },
  {
   "cell_type": "code",
   "execution_count": 191,
   "id": "ed138d1d-04d3-4162-b2da-b2c3602f8786",
   "metadata": {},
   "outputs": [
    {
     "data": {
      "text/html": [
       "<div>\n",
       "<style scoped>\n",
       "    .dataframe tbody tr th:only-of-type {\n",
       "        vertical-align: middle;\n",
       "    }\n",
       "\n",
       "    .dataframe tbody tr th {\n",
       "        vertical-align: top;\n",
       "    }\n",
       "\n",
       "    .dataframe thead th {\n",
       "        text-align: right;\n",
       "    }\n",
       "</style>\n",
       "<table border=\"1\" class=\"dataframe\">\n",
       "  <thead>\n",
       "    <tr style=\"text-align: right;\">\n",
       "      <th></th>\n",
       "      <th>Date</th>\n",
       "      <th>Temp</th>\n",
       "      <th>Wind</th>\n",
       "      <th>Rem</th>\n",
       "    </tr>\n",
       "  </thead>\n",
       "  <tbody>\n",
       "    <tr>\n",
       "      <th>0</th>\n",
       "      <td>2025-01-01</td>\n",
       "      <td>20 F</td>\n",
       "      <td>10</td>\n",
       "      <td>Sun</td>\n",
       "    </tr>\n",
       "    <tr>\n",
       "      <th>1</th>\n",
       "      <td>2025-02-01</td>\n",
       "      <td>23</td>\n",
       "      <td>9</td>\n",
       "      <td>Rain</td>\n",
       "    </tr>\n",
       "    <tr>\n",
       "      <th>2</th>\n",
       "      <td>2025-03-01</td>\n",
       "      <td>-90</td>\n",
       "      <td>NaN</td>\n",
       "      <td>NaN</td>\n",
       "    </tr>\n",
       "    <tr>\n",
       "      <th>3</th>\n",
       "      <td>2025-04-01</td>\n",
       "      <td>30</td>\n",
       "      <td>5</td>\n",
       "      <td>Sun</td>\n",
       "    </tr>\n",
       "    <tr>\n",
       "      <th>4</th>\n",
       "      <td>2025-05-01</td>\n",
       "      <td>NaN</td>\n",
       "      <td>4 kmph</td>\n",
       "      <td>NaN</td>\n",
       "    </tr>\n",
       "    <tr>\n",
       "      <th>5</th>\n",
       "      <td>2025-06-01</td>\n",
       "      <td>45</td>\n",
       "      <td>NaN</td>\n",
       "      <td>Rain</td>\n",
       "    </tr>\n",
       "  </tbody>\n",
       "</table>\n",
       "</div>"
      ],
      "text/plain": [
       "        Date  Temp    Wind   Rem\n",
       "0 2025-01-01  20 F      10   Sun\n",
       "1 2025-02-01    23       9  Rain\n",
       "2 2025-03-01   -90     NaN   NaN\n",
       "3 2025-04-01    30       5   Sun\n",
       "4 2025-05-01   NaN  4 kmph   NaN\n",
       "5 2025-06-01    45     NaN  Rain"
      ]
     },
     "execution_count": 191,
     "metadata": {},
     "output_type": "execute_result"
    }
   ],
   "source": [
    "df=pd.read_excel(r\"C:\\Users\\Rishabh\\Downloads\\Note.xlsx\")\n",
    "df"
   ]
  },
  {
   "cell_type": "markdown",
   "id": "5f29a425-37b7-4641-94d0-76e7559eefe2",
   "metadata": {},
   "source": [
    "* To remove n rows while extraxting csv/excel file: **pd.read_excel(\"file path\",skiprows=n)**\n"
   ]
  },
  {
   "cell_type": "code",
   "execution_count": 193,
   "id": "b34674a7-5426-4b27-9945-82ffc110c69b",
   "metadata": {},
   "outputs": [
    {
     "data": {
      "text/html": [
       "<div>\n",
       "<style scoped>\n",
       "    .dataframe tbody tr th:only-of-type {\n",
       "        vertical-align: middle;\n",
       "    }\n",
       "\n",
       "    .dataframe tbody tr th {\n",
       "        vertical-align: top;\n",
       "    }\n",
       "\n",
       "    .dataframe thead th {\n",
       "        text-align: right;\n",
       "    }\n",
       "</style>\n",
       "<table border=\"1\" class=\"dataframe\">\n",
       "  <thead>\n",
       "    <tr style=\"text-align: right;\">\n",
       "      <th></th>\n",
       "      <th>2025-02-01 00:00:00</th>\n",
       "      <th>23</th>\n",
       "      <th>9</th>\n",
       "      <th>Rain</th>\n",
       "    </tr>\n",
       "  </thead>\n",
       "  <tbody>\n",
       "    <tr>\n",
       "      <th>0</th>\n",
       "      <td>2025-03-01</td>\n",
       "      <td>-90.0</td>\n",
       "      <td>NaN</td>\n",
       "      <td>NaN</td>\n",
       "    </tr>\n",
       "    <tr>\n",
       "      <th>1</th>\n",
       "      <td>2025-04-01</td>\n",
       "      <td>30.0</td>\n",
       "      <td>5</td>\n",
       "      <td>Sun</td>\n",
       "    </tr>\n",
       "    <tr>\n",
       "      <th>2</th>\n",
       "      <td>2025-05-01</td>\n",
       "      <td>NaN</td>\n",
       "      <td>4 kmph</td>\n",
       "      <td>NaN</td>\n",
       "    </tr>\n",
       "    <tr>\n",
       "      <th>3</th>\n",
       "      <td>2025-06-01</td>\n",
       "      <td>45.0</td>\n",
       "      <td>NaN</td>\n",
       "      <td>Rain</td>\n",
       "    </tr>\n",
       "  </tbody>\n",
       "</table>\n",
       "</div>"
      ],
      "text/plain": [
       "  2025-02-01 00:00:00    23       9  Rain\n",
       "0          2025-03-01 -90.0     NaN   NaN\n",
       "1          2025-04-01  30.0       5   Sun\n",
       "2          2025-05-01   NaN  4 kmph   NaN\n",
       "3          2025-06-01  45.0     NaN  Rain"
      ]
     },
     "execution_count": 193,
     "metadata": {},
     "output_type": "execute_result"
    }
   ],
   "source": [
    "df_skip=pd.read_excel(r\"C:\\Users\\Rishabh\\Downloads\\Note.xlsx\",skiprows=2)\n",
    "df_skip\n",
    "# last n rows will be removed"
   ]
  },
  {
   "cell_type": "markdown",
   "id": "db577da6-45c8-4561-ab24-1fef0d8e1972",
   "metadata": {},
   "source": [
    "* To read only n rows from data set: **pd.read_excel(\"file path\",nrows=n)**"
   ]
  },
  {
   "cell_type": "code",
   "execution_count": 196,
   "id": "d39b12d2-aeee-421a-ac24-14072b396135",
   "metadata": {},
   "outputs": [
    {
     "data": {
      "text/html": [
       "<div>\n",
       "<style scoped>\n",
       "    .dataframe tbody tr th:only-of-type {\n",
       "        vertical-align: middle;\n",
       "    }\n",
       "\n",
       "    .dataframe tbody tr th {\n",
       "        vertical-align: top;\n",
       "    }\n",
       "\n",
       "    .dataframe thead th {\n",
       "        text-align: right;\n",
       "    }\n",
       "</style>\n",
       "<table border=\"1\" class=\"dataframe\">\n",
       "  <thead>\n",
       "    <tr style=\"text-align: right;\">\n",
       "      <th></th>\n",
       "      <th>Date</th>\n",
       "      <th>Temp</th>\n",
       "      <th>Wind</th>\n",
       "      <th>Rem</th>\n",
       "    </tr>\n",
       "  </thead>\n",
       "  <tbody>\n",
       "    <tr>\n",
       "      <th>0</th>\n",
       "      <td>2025-01-01</td>\n",
       "      <td>20 F</td>\n",
       "      <td>10</td>\n",
       "      <td>Sun</td>\n",
       "    </tr>\n",
       "    <tr>\n",
       "      <th>1</th>\n",
       "      <td>2025-02-01</td>\n",
       "      <td>23</td>\n",
       "      <td>9</td>\n",
       "      <td>Rain</td>\n",
       "    </tr>\n",
       "  </tbody>\n",
       "</table>\n",
       "</div>"
      ],
      "text/plain": [
       "        Date  Temp  Wind   Rem\n",
       "0 2025-01-01  20 F    10   Sun\n",
       "1 2025-02-01    23     9  Rain"
      ]
     },
     "execution_count": 196,
     "metadata": {},
     "output_type": "execute_result"
    }
   ],
   "source": [
    "df_n=pd.read_excel(r\"C:\\Users\\Rishabh\\Downloads\\Note.xlsx\",nrows=2)\n",
    "df_n\n",
    "# starting n rows appear as o/p"
   ]
  },
  {
   "cell_type": "markdown",
   "id": "970cc144-a6ba-4f03-9303-b665f402d423",
   "metadata": {},
   "source": [
    "* To find number of rows and cols of a Data set: **Dataframe name.shape**"
   ]
  },
  {
   "cell_type": "code",
   "execution_count": 120,
   "id": "3490159b-bbf8-433e-a0db-aa2b091c4a29",
   "metadata": {},
   "outputs": [
    {
     "data": {
      "text/plain": [
       "(6, 4)"
      ]
     },
     "execution_count": 120,
     "metadata": {},
     "output_type": "execute_result"
    }
   ],
   "source": [
    "df.shape\n",
    "# o/p: (row,col)"
   ]
  },
  {
   "cell_type": "markdown",
   "id": "748994a2-22a9-464a-8064-a4955081b304",
   "metadata": {},
   "source": [
    "* To extract Statistics of Data: **DataFrame name.describe()**"
   ]
  },
  {
   "cell_type": "code",
   "execution_count": 240,
   "id": "f0d871ca-6dc8-4e1f-9d6f-bd26244595a5",
   "metadata": {},
   "outputs": [
    {
     "data": {
      "text/html": [
       "<div>\n",
       "<style scoped>\n",
       "    .dataframe tbody tr th:only-of-type {\n",
       "        vertical-align: middle;\n",
       "    }\n",
       "\n",
       "    .dataframe tbody tr th {\n",
       "        vertical-align: top;\n",
       "    }\n",
       "\n",
       "    .dataframe thead th {\n",
       "        text-align: right;\n",
       "    }\n",
       "</style>\n",
       "<table border=\"1\" class=\"dataframe\">\n",
       "  <thead>\n",
       "    <tr style=\"text-align: right;\">\n",
       "      <th></th>\n",
       "      <th>Date</th>\n",
       "    </tr>\n",
       "  </thead>\n",
       "  <tbody>\n",
       "    <tr>\n",
       "      <th>count</th>\n",
       "      <td>6</td>\n",
       "    </tr>\n",
       "    <tr>\n",
       "      <th>mean</th>\n",
       "      <td>2025-03-17 04:00:00</td>\n",
       "    </tr>\n",
       "    <tr>\n",
       "      <th>min</th>\n",
       "      <td>2025-01-01 00:00:00</td>\n",
       "    </tr>\n",
       "    <tr>\n",
       "      <th>25%</th>\n",
       "      <td>2025-02-08 00:00:00</td>\n",
       "    </tr>\n",
       "    <tr>\n",
       "      <th>50%</th>\n",
       "      <td>2025-03-16 12:00:00</td>\n",
       "    </tr>\n",
       "    <tr>\n",
       "      <th>75%</th>\n",
       "      <td>2025-04-23 12:00:00</td>\n",
       "    </tr>\n",
       "    <tr>\n",
       "      <th>max</th>\n",
       "      <td>2025-06-01 00:00:00</td>\n",
       "    </tr>\n",
       "  </tbody>\n",
       "</table>\n",
       "</div>"
      ],
      "text/plain": [
       "                      Date\n",
       "count                    6\n",
       "mean   2025-03-17 04:00:00\n",
       "min    2025-01-01 00:00:00\n",
       "25%    2025-02-08 00:00:00\n",
       "50%    2025-03-16 12:00:00\n",
       "75%    2025-04-23 12:00:00\n",
       "max    2025-06-01 00:00:00"
      ]
     },
     "execution_count": 240,
     "metadata": {},
     "output_type": "execute_result"
    }
   ],
   "source": [
    "df.describe()"
   ]
  },
  {
   "cell_type": "markdown",
   "id": "66ff6b27-9425-4995-9142-ee9cc30cf6a2",
   "metadata": {},
   "source": [
    "* To extract few rows from head of dataframe: **Dataframe name.head()**"
   ]
  },
  {
   "cell_type": "code",
   "execution_count": 124,
   "id": "ea8d82cc-2315-4715-9fa6-d526a00bd1a4",
   "metadata": {},
   "outputs": [
    {
     "data": {
      "text/html": [
       "<div>\n",
       "<style scoped>\n",
       "    .dataframe tbody tr th:only-of-type {\n",
       "        vertical-align: middle;\n",
       "    }\n",
       "\n",
       "    .dataframe tbody tr th {\n",
       "        vertical-align: top;\n",
       "    }\n",
       "\n",
       "    .dataframe thead th {\n",
       "        text-align: right;\n",
       "    }\n",
       "</style>\n",
       "<table border=\"1\" class=\"dataframe\">\n",
       "  <thead>\n",
       "    <tr style=\"text-align: right;\">\n",
       "      <th></th>\n",
       "      <th>Date</th>\n",
       "      <th>Temp</th>\n",
       "      <th>Wind</th>\n",
       "      <th>Rem</th>\n",
       "    </tr>\n",
       "  </thead>\n",
       "  <tbody>\n",
       "    <tr>\n",
       "      <th>0</th>\n",
       "      <td>2025-01-01</td>\n",
       "      <td>20 F</td>\n",
       "      <td>10</td>\n",
       "      <td>Sun</td>\n",
       "    </tr>\n",
       "    <tr>\n",
       "      <th>1</th>\n",
       "      <td>2025-02-01</td>\n",
       "      <td>23</td>\n",
       "      <td>9</td>\n",
       "      <td>Rain</td>\n",
       "    </tr>\n",
       "    <tr>\n",
       "      <th>2</th>\n",
       "      <td>2025-03-01</td>\n",
       "      <td>-90</td>\n",
       "      <td>NaN</td>\n",
       "      <td>NaN</td>\n",
       "    </tr>\n",
       "    <tr>\n",
       "      <th>3</th>\n",
       "      <td>2025-04-01</td>\n",
       "      <td>30</td>\n",
       "      <td>5</td>\n",
       "      <td>Sun</td>\n",
       "    </tr>\n",
       "    <tr>\n",
       "      <th>4</th>\n",
       "      <td>2025-05-01</td>\n",
       "      <td>NaN</td>\n",
       "      <td>4 kmph</td>\n",
       "      <td>NaN</td>\n",
       "    </tr>\n",
       "  </tbody>\n",
       "</table>\n",
       "</div>"
      ],
      "text/plain": [
       "        Date  Temp    Wind   Rem\n",
       "0 2025-01-01  20 F      10   Sun\n",
       "1 2025-02-01    23       9  Rain\n",
       "2 2025-03-01   -90     NaN   NaN\n",
       "3 2025-04-01    30       5   Sun\n",
       "4 2025-05-01   NaN  4 kmph   NaN"
      ]
     },
     "execution_count": 124,
     "metadata": {},
     "output_type": "execute_result"
    }
   ],
   "source": [
    "df.head()"
   ]
  },
  {
   "cell_type": "markdown",
   "id": "b443e94a-dba0-4849-8c67-3414bccdb617",
   "metadata": {},
   "source": [
    "* To extract n rows from head of dataframe: **Dataframe name.head(n)**"
   ]
  },
  {
   "cell_type": "code",
   "execution_count": 130,
   "id": "aad1bfe6-8787-4d7a-9a23-93ec686e260a",
   "metadata": {},
   "outputs": [
    {
     "data": {
      "text/html": [
       "<div>\n",
       "<style scoped>\n",
       "    .dataframe tbody tr th:only-of-type {\n",
       "        vertical-align: middle;\n",
       "    }\n",
       "\n",
       "    .dataframe tbody tr th {\n",
       "        vertical-align: top;\n",
       "    }\n",
       "\n",
       "    .dataframe thead th {\n",
       "        text-align: right;\n",
       "    }\n",
       "</style>\n",
       "<table border=\"1\" class=\"dataframe\">\n",
       "  <thead>\n",
       "    <tr style=\"text-align: right;\">\n",
       "      <th></th>\n",
       "      <th>Date</th>\n",
       "      <th>Temp</th>\n",
       "      <th>Wind</th>\n",
       "      <th>Rem</th>\n",
       "    </tr>\n",
       "  </thead>\n",
       "  <tbody>\n",
       "    <tr>\n",
       "      <th>0</th>\n",
       "      <td>2025-01-01</td>\n",
       "      <td>20 F</td>\n",
       "      <td>10</td>\n",
       "      <td>Sun</td>\n",
       "    </tr>\n",
       "    <tr>\n",
       "      <th>1</th>\n",
       "      <td>2025-02-01</td>\n",
       "      <td>23</td>\n",
       "      <td>9</td>\n",
       "      <td>Rain</td>\n",
       "    </tr>\n",
       "  </tbody>\n",
       "</table>\n",
       "</div>"
      ],
      "text/plain": [
       "        Date  Temp Wind   Rem\n",
       "0 2025-01-01  20 F   10   Sun\n",
       "1 2025-02-01    23    9  Rain"
      ]
     },
     "execution_count": 130,
     "metadata": {},
     "output_type": "execute_result"
    }
   ],
   "source": [
    "df.head(2)\n",
    "# remember indexing starts from 0"
   ]
  },
  {
   "cell_type": "markdown",
   "id": "6af6b2ae-2d0a-4ae5-a0a0-1838bd80a8ca",
   "metadata": {},
   "source": [
    "* To extract few rows from tail of dataframe: **Dataframe name.tail()**"
   ]
  },
  {
   "cell_type": "code",
   "execution_count": 136,
   "id": "99bb73d7-5592-412d-8baa-9eb38c8ef5f9",
   "metadata": {},
   "outputs": [
    {
     "data": {
      "text/html": [
       "<div>\n",
       "<style scoped>\n",
       "    .dataframe tbody tr th:only-of-type {\n",
       "        vertical-align: middle;\n",
       "    }\n",
       "\n",
       "    .dataframe tbody tr th {\n",
       "        vertical-align: top;\n",
       "    }\n",
       "\n",
       "    .dataframe thead th {\n",
       "        text-align: right;\n",
       "    }\n",
       "</style>\n",
       "<table border=\"1\" class=\"dataframe\">\n",
       "  <thead>\n",
       "    <tr style=\"text-align: right;\">\n",
       "      <th></th>\n",
       "      <th>Date</th>\n",
       "      <th>Temp</th>\n",
       "      <th>Wind</th>\n",
       "      <th>Rem</th>\n",
       "    </tr>\n",
       "  </thead>\n",
       "  <tbody>\n",
       "    <tr>\n",
       "      <th>1</th>\n",
       "      <td>2025-02-01</td>\n",
       "      <td>23</td>\n",
       "      <td>9</td>\n",
       "      <td>Rain</td>\n",
       "    </tr>\n",
       "    <tr>\n",
       "      <th>2</th>\n",
       "      <td>2025-03-01</td>\n",
       "      <td>-90</td>\n",
       "      <td>NaN</td>\n",
       "      <td>NaN</td>\n",
       "    </tr>\n",
       "    <tr>\n",
       "      <th>3</th>\n",
       "      <td>2025-04-01</td>\n",
       "      <td>30</td>\n",
       "      <td>5</td>\n",
       "      <td>Sun</td>\n",
       "    </tr>\n",
       "    <tr>\n",
       "      <th>4</th>\n",
       "      <td>2025-05-01</td>\n",
       "      <td>NaN</td>\n",
       "      <td>4 kmph</td>\n",
       "      <td>NaN</td>\n",
       "    </tr>\n",
       "    <tr>\n",
       "      <th>5</th>\n",
       "      <td>2025-06-01</td>\n",
       "      <td>45</td>\n",
       "      <td>NaN</td>\n",
       "      <td>Rain</td>\n",
       "    </tr>\n",
       "  </tbody>\n",
       "</table>\n",
       "</div>"
      ],
      "text/plain": [
       "        Date Temp    Wind   Rem\n",
       "1 2025-02-01   23       9  Rain\n",
       "2 2025-03-01  -90     NaN   NaN\n",
       "3 2025-04-01   30       5   Sun\n",
       "4 2025-05-01  NaN  4 kmph   NaN\n",
       "5 2025-06-01   45     NaN  Rain"
      ]
     },
     "execution_count": 136,
     "metadata": {},
     "output_type": "execute_result"
    }
   ],
   "source": [
    "df.tail()"
   ]
  },
  {
   "cell_type": "markdown",
   "id": "6d4c4970-9998-44d2-add7-f10d7b71fae0",
   "metadata": {},
   "source": [
    "* To extract n rows from tail of dataframe: **Dataframe name.tail(n)**"
   ]
  },
  {
   "cell_type": "code",
   "execution_count": 140,
   "id": "cc061cac-d74a-4973-8141-a2d33260f87d",
   "metadata": {},
   "outputs": [
    {
     "data": {
      "text/html": [
       "<div>\n",
       "<style scoped>\n",
       "    .dataframe tbody tr th:only-of-type {\n",
       "        vertical-align: middle;\n",
       "    }\n",
       "\n",
       "    .dataframe tbody tr th {\n",
       "        vertical-align: top;\n",
       "    }\n",
       "\n",
       "    .dataframe thead th {\n",
       "        text-align: right;\n",
       "    }\n",
       "</style>\n",
       "<table border=\"1\" class=\"dataframe\">\n",
       "  <thead>\n",
       "    <tr style=\"text-align: right;\">\n",
       "      <th></th>\n",
       "      <th>Date</th>\n",
       "      <th>Temp</th>\n",
       "      <th>Wind</th>\n",
       "      <th>Rem</th>\n",
       "    </tr>\n",
       "  </thead>\n",
       "  <tbody>\n",
       "    <tr>\n",
       "      <th>3</th>\n",
       "      <td>2025-04-01</td>\n",
       "      <td>30</td>\n",
       "      <td>5</td>\n",
       "      <td>Sun</td>\n",
       "    </tr>\n",
       "    <tr>\n",
       "      <th>4</th>\n",
       "      <td>2025-05-01</td>\n",
       "      <td>NaN</td>\n",
       "      <td>4 kmph</td>\n",
       "      <td>NaN</td>\n",
       "    </tr>\n",
       "    <tr>\n",
       "      <th>5</th>\n",
       "      <td>2025-06-01</td>\n",
       "      <td>45</td>\n",
       "      <td>NaN</td>\n",
       "      <td>Rain</td>\n",
       "    </tr>\n",
       "  </tbody>\n",
       "</table>\n",
       "</div>"
      ],
      "text/plain": [
       "        Date Temp    Wind   Rem\n",
       "3 2025-04-01   30       5   Sun\n",
       "4 2025-05-01  NaN  4 kmph   NaN\n",
       "5 2025-06-01   45     NaN  Rain"
      ]
     },
     "execution_count": 140,
     "metadata": {},
     "output_type": "execute_result"
    }
   ],
   "source": [
    "df.tail(3)"
   ]
  },
  {
   "cell_type": "markdown",
   "id": "f072662a-f1f2-422b-8609-a00d0781f170",
   "metadata": {},
   "source": [
    "* Extract rows using index: **Dataframe name[starting index:ending index]**"
   ]
  },
  {
   "cell_type": "code",
   "execution_count": 143,
   "id": "3a745c2e-ec76-4db5-8dd6-408a9994d6c0",
   "metadata": {},
   "outputs": [
    {
     "data": {
      "text/html": [
       "<div>\n",
       "<style scoped>\n",
       "    .dataframe tbody tr th:only-of-type {\n",
       "        vertical-align: middle;\n",
       "    }\n",
       "\n",
       "    .dataframe tbody tr th {\n",
       "        vertical-align: top;\n",
       "    }\n",
       "\n",
       "    .dataframe thead th {\n",
       "        text-align: right;\n",
       "    }\n",
       "</style>\n",
       "<table border=\"1\" class=\"dataframe\">\n",
       "  <thead>\n",
       "    <tr style=\"text-align: right;\">\n",
       "      <th></th>\n",
       "      <th>Date</th>\n",
       "      <th>Temp</th>\n",
       "      <th>Wind</th>\n",
       "      <th>Rem</th>\n",
       "    </tr>\n",
       "  </thead>\n",
       "  <tbody>\n",
       "    <tr>\n",
       "      <th>0</th>\n",
       "      <td>2025-01-01</td>\n",
       "      <td>20 F</td>\n",
       "      <td>10</td>\n",
       "      <td>Sun</td>\n",
       "    </tr>\n",
       "    <tr>\n",
       "      <th>1</th>\n",
       "      <td>2025-02-01</td>\n",
       "      <td>23</td>\n",
       "      <td>9</td>\n",
       "      <td>Rain</td>\n",
       "    </tr>\n",
       "    <tr>\n",
       "      <th>2</th>\n",
       "      <td>2025-03-01</td>\n",
       "      <td>-90</td>\n",
       "      <td>NaN</td>\n",
       "      <td>NaN</td>\n",
       "    </tr>\n",
       "    <tr>\n",
       "      <th>3</th>\n",
       "      <td>2025-04-01</td>\n",
       "      <td>30</td>\n",
       "      <td>5</td>\n",
       "      <td>Sun</td>\n",
       "    </tr>\n",
       "    <tr>\n",
       "      <th>4</th>\n",
       "      <td>2025-05-01</td>\n",
       "      <td>NaN</td>\n",
       "      <td>4 kmph</td>\n",
       "      <td>NaN</td>\n",
       "    </tr>\n",
       "    <tr>\n",
       "      <th>5</th>\n",
       "      <td>2025-06-01</td>\n",
       "      <td>45</td>\n",
       "      <td>NaN</td>\n",
       "      <td>Rain</td>\n",
       "    </tr>\n",
       "  </tbody>\n",
       "</table>\n",
       "</div>"
      ],
      "text/plain": [
       "        Date  Temp    Wind   Rem\n",
       "0 2025-01-01  20 F      10   Sun\n",
       "1 2025-02-01    23       9  Rain\n",
       "2 2025-03-01   -90     NaN   NaN\n",
       "3 2025-04-01    30       5   Sun\n",
       "4 2025-05-01   NaN  4 kmph   NaN\n",
       "5 2025-06-01    45     NaN  Rain"
      ]
     },
     "execution_count": 143,
     "metadata": {},
     "output_type": "execute_result"
    }
   ],
   "source": [
    "df[0:6]"
   ]
  },
  {
   "cell_type": "code",
   "execution_count": 145,
   "id": "31c78c1c-d729-4d7e-99c1-234fc99bf5c3",
   "metadata": {},
   "outputs": [
    {
     "data": {
      "text/html": [
       "<div>\n",
       "<style scoped>\n",
       "    .dataframe tbody tr th:only-of-type {\n",
       "        vertical-align: middle;\n",
       "    }\n",
       "\n",
       "    .dataframe tbody tr th {\n",
       "        vertical-align: top;\n",
       "    }\n",
       "\n",
       "    .dataframe thead th {\n",
       "        text-align: right;\n",
       "    }\n",
       "</style>\n",
       "<table border=\"1\" class=\"dataframe\">\n",
       "  <thead>\n",
       "    <tr style=\"text-align: right;\">\n",
       "      <th></th>\n",
       "      <th>Date</th>\n",
       "      <th>Temp</th>\n",
       "      <th>Wind</th>\n",
       "      <th>Rem</th>\n",
       "    </tr>\n",
       "  </thead>\n",
       "  <tbody>\n",
       "    <tr>\n",
       "      <th>2</th>\n",
       "      <td>2025-03-01</td>\n",
       "      <td>-90</td>\n",
       "      <td>NaN</td>\n",
       "      <td>NaN</td>\n",
       "    </tr>\n",
       "    <tr>\n",
       "      <th>3</th>\n",
       "      <td>2025-04-01</td>\n",
       "      <td>30</td>\n",
       "      <td>5</td>\n",
       "      <td>Sun</td>\n",
       "    </tr>\n",
       "    <tr>\n",
       "      <th>4</th>\n",
       "      <td>2025-05-01</td>\n",
       "      <td>NaN</td>\n",
       "      <td>4 kmph</td>\n",
       "      <td>NaN</td>\n",
       "    </tr>\n",
       "  </tbody>\n",
       "</table>\n",
       "</div>"
      ],
      "text/plain": [
       "        Date Temp    Wind  Rem\n",
       "2 2025-03-01  -90     NaN  NaN\n",
       "3 2025-04-01   30       5  Sun\n",
       "4 2025-05-01  NaN  4 kmph  NaN"
      ]
     },
     "execution_count": 145,
     "metadata": {},
     "output_type": "execute_result"
    }
   ],
   "source": [
    "df[2:5]"
   ]
  },
  {
   "cell_type": "markdown",
   "id": "8ae71e1a-0f61-4035-addf-500866379177",
   "metadata": {},
   "source": [
    "* To extract entire datframe : **Dataframe name[:] / Dataframe name**"
   ]
  },
  {
   "cell_type": "code",
   "execution_count": 148,
   "id": "c977dbd3-5e60-4fd6-8561-0c2a8a23defc",
   "metadata": {},
   "outputs": [
    {
     "data": {
      "text/html": [
       "<div>\n",
       "<style scoped>\n",
       "    .dataframe tbody tr th:only-of-type {\n",
       "        vertical-align: middle;\n",
       "    }\n",
       "\n",
       "    .dataframe tbody tr th {\n",
       "        vertical-align: top;\n",
       "    }\n",
       "\n",
       "    .dataframe thead th {\n",
       "        text-align: right;\n",
       "    }\n",
       "</style>\n",
       "<table border=\"1\" class=\"dataframe\">\n",
       "  <thead>\n",
       "    <tr style=\"text-align: right;\">\n",
       "      <th></th>\n",
       "      <th>Date</th>\n",
       "      <th>Temp</th>\n",
       "      <th>Wind</th>\n",
       "      <th>Rem</th>\n",
       "    </tr>\n",
       "  </thead>\n",
       "  <tbody>\n",
       "    <tr>\n",
       "      <th>0</th>\n",
       "      <td>2025-01-01</td>\n",
       "      <td>20 F</td>\n",
       "      <td>10</td>\n",
       "      <td>Sun</td>\n",
       "    </tr>\n",
       "    <tr>\n",
       "      <th>1</th>\n",
       "      <td>2025-02-01</td>\n",
       "      <td>23</td>\n",
       "      <td>9</td>\n",
       "      <td>Rain</td>\n",
       "    </tr>\n",
       "    <tr>\n",
       "      <th>2</th>\n",
       "      <td>2025-03-01</td>\n",
       "      <td>-90</td>\n",
       "      <td>NaN</td>\n",
       "      <td>NaN</td>\n",
       "    </tr>\n",
       "    <tr>\n",
       "      <th>3</th>\n",
       "      <td>2025-04-01</td>\n",
       "      <td>30</td>\n",
       "      <td>5</td>\n",
       "      <td>Sun</td>\n",
       "    </tr>\n",
       "    <tr>\n",
       "      <th>4</th>\n",
       "      <td>2025-05-01</td>\n",
       "      <td>NaN</td>\n",
       "      <td>4 kmph</td>\n",
       "      <td>NaN</td>\n",
       "    </tr>\n",
       "    <tr>\n",
       "      <th>5</th>\n",
       "      <td>2025-06-01</td>\n",
       "      <td>45</td>\n",
       "      <td>NaN</td>\n",
       "      <td>Rain</td>\n",
       "    </tr>\n",
       "  </tbody>\n",
       "</table>\n",
       "</div>"
      ],
      "text/plain": [
       "        Date  Temp    Wind   Rem\n",
       "0 2025-01-01  20 F      10   Sun\n",
       "1 2025-02-01    23       9  Rain\n",
       "2 2025-03-01   -90     NaN   NaN\n",
       "3 2025-04-01    30       5   Sun\n",
       "4 2025-05-01   NaN  4 kmph   NaN\n",
       "5 2025-06-01    45     NaN  Rain"
      ]
     },
     "execution_count": 148,
     "metadata": {},
     "output_type": "execute_result"
    }
   ],
   "source": [
    "df[:]"
   ]
  },
  {
   "cell_type": "code",
   "execution_count": 152,
   "id": "de531dc2-e0d9-4033-9e99-be3709383d2e",
   "metadata": {},
   "outputs": [
    {
     "data": {
      "text/html": [
       "<div>\n",
       "<style scoped>\n",
       "    .dataframe tbody tr th:only-of-type {\n",
       "        vertical-align: middle;\n",
       "    }\n",
       "\n",
       "    .dataframe tbody tr th {\n",
       "        vertical-align: top;\n",
       "    }\n",
       "\n",
       "    .dataframe thead th {\n",
       "        text-align: right;\n",
       "    }\n",
       "</style>\n",
       "<table border=\"1\" class=\"dataframe\">\n",
       "  <thead>\n",
       "    <tr style=\"text-align: right;\">\n",
       "      <th></th>\n",
       "      <th>Date</th>\n",
       "      <th>Temp</th>\n",
       "      <th>Wind</th>\n",
       "      <th>Rem</th>\n",
       "    </tr>\n",
       "  </thead>\n",
       "  <tbody>\n",
       "    <tr>\n",
       "      <th>0</th>\n",
       "      <td>2025-01-01</td>\n",
       "      <td>20 F</td>\n",
       "      <td>10</td>\n",
       "      <td>Sun</td>\n",
       "    </tr>\n",
       "    <tr>\n",
       "      <th>1</th>\n",
       "      <td>2025-02-01</td>\n",
       "      <td>23</td>\n",
       "      <td>9</td>\n",
       "      <td>Rain</td>\n",
       "    </tr>\n",
       "    <tr>\n",
       "      <th>2</th>\n",
       "      <td>2025-03-01</td>\n",
       "      <td>-90</td>\n",
       "      <td>NaN</td>\n",
       "      <td>NaN</td>\n",
       "    </tr>\n",
       "    <tr>\n",
       "      <th>3</th>\n",
       "      <td>2025-04-01</td>\n",
       "      <td>30</td>\n",
       "      <td>5</td>\n",
       "      <td>Sun</td>\n",
       "    </tr>\n",
       "    <tr>\n",
       "      <th>4</th>\n",
       "      <td>2025-05-01</td>\n",
       "      <td>NaN</td>\n",
       "      <td>4 kmph</td>\n",
       "      <td>NaN</td>\n",
       "    </tr>\n",
       "    <tr>\n",
       "      <th>5</th>\n",
       "      <td>2025-06-01</td>\n",
       "      <td>45</td>\n",
       "      <td>NaN</td>\n",
       "      <td>Rain</td>\n",
       "    </tr>\n",
       "  </tbody>\n",
       "</table>\n",
       "</div>"
      ],
      "text/plain": [
       "        Date  Temp    Wind   Rem\n",
       "0 2025-01-01  20 F      10   Sun\n",
       "1 2025-02-01    23       9  Rain\n",
       "2 2025-03-01   -90     NaN   NaN\n",
       "3 2025-04-01    30       5   Sun\n",
       "4 2025-05-01   NaN  4 kmph   NaN\n",
       "5 2025-06-01    45     NaN  Rain"
      ]
     },
     "execution_count": 152,
     "metadata": {},
     "output_type": "execute_result"
    }
   ],
   "source": [
    "df"
   ]
  },
  {
   "cell_type": "markdown",
   "id": "3a03e38c-6a84-4919-b6b5-2a135422f8ee",
   "metadata": {},
   "source": [
    "* To extraxt headings/ no. of cols of a data set: **Dataframe name.columns**"
   ]
  },
  {
   "cell_type": "code",
   "execution_count": 155,
   "id": "c73aac28-367e-4791-a922-76acc2ce85f8",
   "metadata": {},
   "outputs": [
    {
     "data": {
      "text/plain": [
       "Index(['Date', 'Temp', 'Wind', 'Rem'], dtype='object')"
      ]
     },
     "execution_count": 155,
     "metadata": {},
     "output_type": "execute_result"
    }
   ],
   "source": [
    "df.columns\n",
    "# its \"Columns\" not \"Column\""
   ]
  },
  {
   "cell_type": "markdown",
   "id": "868e990a-3393-4574-be7c-120b9d1632fc",
   "metadata": {},
   "source": [
    "* To remove units of measurement from data set: **Dataframe name.replace({'col name1':'[A-Za-z]','col name2:'[A-za-z]',...},' ',regex=True)**\n"
   ]
  },
  {
   "cell_type": "code",
   "execution_count": 17,
   "id": "da351a53-be27-4c1d-a7c2-dd14c6458d86",
   "metadata": {},
   "outputs": [
    {
     "data": {
      "text/html": [
       "<div>\n",
       "<style scoped>\n",
       "    .dataframe tbody tr th:only-of-type {\n",
       "        vertical-align: middle;\n",
       "    }\n",
       "\n",
       "    .dataframe tbody tr th {\n",
       "        vertical-align: top;\n",
       "    }\n",
       "\n",
       "    .dataframe thead th {\n",
       "        text-align: right;\n",
       "    }\n",
       "</style>\n",
       "<table border=\"1\" class=\"dataframe\">\n",
       "  <thead>\n",
       "    <tr style=\"text-align: right;\">\n",
       "      <th></th>\n",
       "      <th>Date</th>\n",
       "      <th>Temp</th>\n",
       "      <th>Wind</th>\n",
       "      <th>Rem</th>\n",
       "    </tr>\n",
       "  </thead>\n",
       "  <tbody>\n",
       "    <tr>\n",
       "      <th>0</th>\n",
       "      <td>2025-01-01</td>\n",
       "      <td>20</td>\n",
       "      <td>10</td>\n",
       "      <td>Sun</td>\n",
       "    </tr>\n",
       "    <tr>\n",
       "      <th>1</th>\n",
       "      <td>2025-02-01</td>\n",
       "      <td>23</td>\n",
       "      <td>9</td>\n",
       "      <td>Rain</td>\n",
       "    </tr>\n",
       "    <tr>\n",
       "      <th>2</th>\n",
       "      <td>2025-03-01</td>\n",
       "      <td>-90</td>\n",
       "      <td>NaN</td>\n",
       "      <td>NaN</td>\n",
       "    </tr>\n",
       "    <tr>\n",
       "      <th>3</th>\n",
       "      <td>2025-04-01</td>\n",
       "      <td>30</td>\n",
       "      <td>5</td>\n",
       "      <td>Sun</td>\n",
       "    </tr>\n",
       "    <tr>\n",
       "      <th>4</th>\n",
       "      <td>2025-05-01</td>\n",
       "      <td>NaN</td>\n",
       "      <td>4</td>\n",
       "      <td>NaN</td>\n",
       "    </tr>\n",
       "    <tr>\n",
       "      <th>5</th>\n",
       "      <td>2025-06-01</td>\n",
       "      <td>45</td>\n",
       "      <td>NaN</td>\n",
       "      <td>Rain</td>\n",
       "    </tr>\n",
       "  </tbody>\n",
       "</table>\n",
       "</div>"
      ],
      "text/plain": [
       "        Date  Temp    Wind   Rem\n",
       "0 2025-01-01  20        10   Sun\n",
       "1 2025-02-01    23       9  Rain\n",
       "2 2025-03-01   -90     NaN   NaN\n",
       "3 2025-04-01    30       5   Sun\n",
       "4 2025-05-01   NaN  4        NaN\n",
       "5 2025-06-01    45     NaN  Rain"
      ]
     },
     "execution_count": 17,
     "metadata": {},
     "output_type": "execute_result"
    }
   ],
   "source": [
    "new_df=df.replace({'Temp':'[A-Za-z]','Wind':'[A-Za-z]'},' ',regex=True)\n",
    "new_df\n",
    "# Leave space b/w ' '"
   ]
  },
  {
   "cell_type": "markdown",
   "id": "6bf1c441-5874-4e25-a0ab-f87d62738c9a",
   "metadata": {},
   "source": [
    "**Q: What happens when we don't specify column name?**"
   ]
  },
  {
   "cell_type": "code",
   "execution_count": 212,
   "id": "ba6c0b07-7fcf-4deb-9273-e558cb5cbdb7",
   "metadata": {},
   "outputs": [
    {
     "data": {
      "text/html": [
       "<div>\n",
       "<style scoped>\n",
       "    .dataframe tbody tr th:only-of-type {\n",
       "        vertical-align: middle;\n",
       "    }\n",
       "\n",
       "    .dataframe tbody tr th {\n",
       "        vertical-align: top;\n",
       "    }\n",
       "\n",
       "    .dataframe thead th {\n",
       "        text-align: right;\n",
       "    }\n",
       "</style>\n",
       "<table border=\"1\" class=\"dataframe\">\n",
       "  <thead>\n",
       "    <tr style=\"text-align: right;\">\n",
       "      <th></th>\n",
       "      <th>Date</th>\n",
       "      <th>Temp</th>\n",
       "      <th>Wind</th>\n",
       "      <th>Rem</th>\n",
       "    </tr>\n",
       "  </thead>\n",
       "  <tbody>\n",
       "    <tr>\n",
       "      <th>0</th>\n",
       "      <td>2025-01-01</td>\n",
       "      <td>20</td>\n",
       "      <td>10</td>\n",
       "      <td></td>\n",
       "    </tr>\n",
       "    <tr>\n",
       "      <th>1</th>\n",
       "      <td>2025-02-01</td>\n",
       "      <td>23</td>\n",
       "      <td>9</td>\n",
       "      <td></td>\n",
       "    </tr>\n",
       "    <tr>\n",
       "      <th>2</th>\n",
       "      <td>2025-03-01</td>\n",
       "      <td>-90</td>\n",
       "      <td>NaN</td>\n",
       "      <td>NaN</td>\n",
       "    </tr>\n",
       "    <tr>\n",
       "      <th>3</th>\n",
       "      <td>2025-04-01</td>\n",
       "      <td>30</td>\n",
       "      <td>5</td>\n",
       "      <td></td>\n",
       "    </tr>\n",
       "    <tr>\n",
       "      <th>4</th>\n",
       "      <td>2025-05-01</td>\n",
       "      <td>NaN</td>\n",
       "      <td>4</td>\n",
       "      <td>NaN</td>\n",
       "    </tr>\n",
       "    <tr>\n",
       "      <th>5</th>\n",
       "      <td>2025-06-01</td>\n",
       "      <td>45</td>\n",
       "      <td>NaN</td>\n",
       "      <td></td>\n",
       "    </tr>\n",
       "  </tbody>\n",
       "</table>\n",
       "</div>"
      ],
      "text/plain": [
       "        Date  Temp    Wind   Rem\n",
       "0 2025-01-01  20        10      \n",
       "1 2025-02-01    23       9      \n",
       "2 2025-03-01   -90     NaN   NaN\n",
       "3 2025-04-01    30       5      \n",
       "4 2025-05-01   NaN  4        NaN\n",
       "5 2025-06-01    45     NaN      "
      ]
     },
     "execution_count": 212,
     "metadata": {},
     "output_type": "execute_result"
    }
   ],
   "source": [
    "# It will remove all alpahbets that are present in data set.\n",
    "Q= df.replace('[A-Za-z]',' ',regex=True)\n",
    "Q"
   ]
  },
  {
   "cell_type": "markdown",
   "id": "b5543cc6-8d7d-483d-9dcd-28d91e89f26c",
   "metadata": {},
   "source": [
    "* To replace a list of values with another list of values: **Dataframe name.replace([Value1,Value2,...],[new value1,new value2,....])**"
   ]
  },
  {
   "cell_type": "code",
   "execution_count": 223,
   "id": "35c91fd0-bd64-4ef7-b3dc-73a1d4af2fe0",
   "metadata": {},
   "outputs": [
    {
     "data": {
      "text/html": [
       "<div>\n",
       "<style scoped>\n",
       "    .dataframe tbody tr th:only-of-type {\n",
       "        vertical-align: middle;\n",
       "    }\n",
       "\n",
       "    .dataframe tbody tr th {\n",
       "        vertical-align: top;\n",
       "    }\n",
       "\n",
       "    .dataframe thead th {\n",
       "        text-align: right;\n",
       "    }\n",
       "</style>\n",
       "<table border=\"1\" class=\"dataframe\">\n",
       "  <thead>\n",
       "    <tr style=\"text-align: right;\">\n",
       "      <th></th>\n",
       "      <th>Date</th>\n",
       "      <th>Temp</th>\n",
       "      <th>Wind</th>\n",
       "      <th>Rem</th>\n",
       "    </tr>\n",
       "  </thead>\n",
       "  <tbody>\n",
       "    <tr>\n",
       "      <th>0</th>\n",
       "      <td>2025-01-01</td>\n",
       "      <td>20 F</td>\n",
       "      <td>1</td>\n",
       "      <td>Sun</td>\n",
       "    </tr>\n",
       "    <tr>\n",
       "      <th>1</th>\n",
       "      <td>2025-02-01</td>\n",
       "      <td>23</td>\n",
       "      <td>90</td>\n",
       "      <td>Rain</td>\n",
       "    </tr>\n",
       "    <tr>\n",
       "      <th>2</th>\n",
       "      <td>2025-03-01</td>\n",
       "      <td>-90</td>\n",
       "      <td>NaN</td>\n",
       "      <td>NaN</td>\n",
       "    </tr>\n",
       "    <tr>\n",
       "      <th>3</th>\n",
       "      <td>2025-04-01</td>\n",
       "      <td>30</td>\n",
       "      <td>5</td>\n",
       "      <td>Sun</td>\n",
       "    </tr>\n",
       "    <tr>\n",
       "      <th>4</th>\n",
       "      <td>2025-05-01</td>\n",
       "      <td>NaN</td>\n",
       "      <td>4 kmph</td>\n",
       "      <td>NaN</td>\n",
       "    </tr>\n",
       "    <tr>\n",
       "      <th>5</th>\n",
       "      <td>2025-06-01</td>\n",
       "      <td>54</td>\n",
       "      <td>NaN</td>\n",
       "      <td>Rain</td>\n",
       "    </tr>\n",
       "  </tbody>\n",
       "</table>\n",
       "</div>"
      ],
      "text/plain": [
       "        Date  Temp    Wind   Rem\n",
       "0 2025-01-01  20 F       1   Sun\n",
       "1 2025-02-01    23      90  Rain\n",
       "2 2025-03-01   -90     NaN   NaN\n",
       "3 2025-04-01    30       5   Sun\n",
       "4 2025-05-01   NaN  4 kmph   NaN\n",
       "5 2025-06-01    54     NaN  Rain"
      ]
     },
     "execution_count": 223,
     "metadata": {},
     "output_type": "execute_result"
    }
   ],
   "source": [
    "rep=df.replace([10,9,45],[1,90,54])\n",
    "rep"
   ]
  },
  {
   "cell_type": "markdown",
   "id": "af799ad7-e107-4b07-8d64-e824e9395efb",
   "metadata": {},
   "source": [
    "* To replace -ve value with any other value: **Dataframe name.replace(value to be replaced, new value)**"
   ]
  },
  {
   "cell_type": "code",
   "execution_count": 15,
   "id": "fb76bd3c-7c37-42cf-b903-7fd14031e099",
   "metadata": {},
   "outputs": [
    {
     "data": {
      "text/html": [
       "<div>\n",
       "<style scoped>\n",
       "    .dataframe tbody tr th:only-of-type {\n",
       "        vertical-align: middle;\n",
       "    }\n",
       "\n",
       "    .dataframe tbody tr th {\n",
       "        vertical-align: top;\n",
       "    }\n",
       "\n",
       "    .dataframe thead th {\n",
       "        text-align: right;\n",
       "    }\n",
       "</style>\n",
       "<table border=\"1\" class=\"dataframe\">\n",
       "  <thead>\n",
       "    <tr style=\"text-align: right;\">\n",
       "      <th></th>\n",
       "      <th>Date</th>\n",
       "      <th>Temp</th>\n",
       "      <th>Wind</th>\n",
       "      <th>Rem</th>\n",
       "    </tr>\n",
       "  </thead>\n",
       "  <tbody>\n",
       "    <tr>\n",
       "      <th>0</th>\n",
       "      <td>2025-01-01</td>\n",
       "      <td>20 F</td>\n",
       "      <td>10</td>\n",
       "      <td>Sun</td>\n",
       "    </tr>\n",
       "    <tr>\n",
       "      <th>1</th>\n",
       "      <td>2025-02-01</td>\n",
       "      <td>23</td>\n",
       "      <td>9</td>\n",
       "      <td>Rain</td>\n",
       "    </tr>\n",
       "    <tr>\n",
       "      <th>2</th>\n",
       "      <td>2025-03-01</td>\n",
       "      <td>90</td>\n",
       "      <td>NaN</td>\n",
       "      <td>NaN</td>\n",
       "    </tr>\n",
       "    <tr>\n",
       "      <th>3</th>\n",
       "      <td>2025-04-01</td>\n",
       "      <td>30</td>\n",
       "      <td>5</td>\n",
       "      <td>Sun</td>\n",
       "    </tr>\n",
       "    <tr>\n",
       "      <th>4</th>\n",
       "      <td>2025-05-01</td>\n",
       "      <td>NaN</td>\n",
       "      <td>4 kmph</td>\n",
       "      <td>NaN</td>\n",
       "    </tr>\n",
       "    <tr>\n",
       "      <th>5</th>\n",
       "      <td>2025-06-01</td>\n",
       "      <td>45</td>\n",
       "      <td>NaN</td>\n",
       "      <td>Rain</td>\n",
       "    </tr>\n",
       "  </tbody>\n",
       "</table>\n",
       "</div>"
      ],
      "text/plain": [
       "        Date  Temp    Wind   Rem\n",
       "0 2025-01-01  20 F      10   Sun\n",
       "1 2025-02-01    23       9  Rain\n",
       "2 2025-03-01    90     NaN   NaN\n",
       "3 2025-04-01    30       5   Sun\n",
       "4 2025-05-01   NaN  4 kmph   NaN\n",
       "5 2025-06-01    45     NaN  Rain"
      ]
     },
     "execution_count": 15,
     "metadata": {},
     "output_type": "execute_result"
    }
   ],
   "source": [
    "df1=df.replace(-90,90)\n",
    "df1"
   ]
  },
  {
   "cell_type": "markdown",
   "id": "afbc408d-4ee9-46ea-b2cb-512bbdcb020e",
   "metadata": {},
   "source": [
    "* To convert dataset into csv/excel file: **Dataframe name.to_excel/csv(\"new dataframe name\")**"
   ]
  },
  {
   "cell_type": "markdown",
   "id": "d6e6a61f-7644-4c2f-b043-d48e723f67bf",
   "metadata": {},
   "source": [
    "* To remove default Jupyter index from our csv/excel file while converting: **Dataframe name.to_excel/csv(\"new dataframe name\",index=False)**"
   ]
  },
  {
   "cell_type": "markdown",
   "id": "432c7df6-b5f3-4699-9a85-f56732ca265a",
   "metadata": {},
   "source": [
    "* To get specific cols in your dataset while converting: **Dataframe name.to_excel/csv(\"new file name\",columns=['C1','C2',...,'Cn'])**"
   ]
  },
  {
   "cell_type": "markdown",
   "id": "f1f671c1-129c-4a08-8b41-951e9a8aeee5",
   "metadata": {},
   "source": [
    "* To avoid header while converting:**Dataframe name.to_excel/csv(\"new dataframe name\",header=False)** "
   ]
  },
  {
   "cell_type": "code",
   "execution_count": null,
   "id": "7c93a273-1173-4268-b486-0333c67af211",
   "metadata": {},
   "outputs": [],
   "source": []
  }
 ],
 "metadata": {
  "kernelspec": {
   "display_name": "Python [conda env:base] *",
   "language": "python",
   "name": "conda-base-py"
  },
  "language_info": {
   "codemirror_mode": {
    "name": "ipython",
    "version": 3
   },
   "file_extension": ".py",
   "mimetype": "text/x-python",
   "name": "python",
   "nbconvert_exporter": "python",
   "pygments_lexer": "ipython3",
   "version": "3.12.7"
  }
 },
 "nbformat": 4,
 "nbformat_minor": 5
}
