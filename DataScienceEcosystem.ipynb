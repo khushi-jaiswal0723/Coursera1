{
 "cells": [
  {
   "cell_type": "markdown",
   "id": "69ad6280-a1ce-4369-8810-a3ed24ee5668",
   "metadata": {},
   "source": [
    "# Data Science Tools and Ecosystem"
   ]
  },
  {
   "cell_type": "markdown",
   "id": "6a8c3e36-c5e8-44c5-a64f-7ceb62aea5ed",
   "metadata": {},
   "source": [
    "In this notebook, Data Science Tools and Ecosystem are summarized.\n",
    "\n"
   ]
  },
  {
   "cell_type": "markdown",
   "id": "d9d31270-7670-4372-a3bc-1cfcb15a9957",
   "metadata": {},
   "source": [
    "**Objectives:**"
   ]
  },
  {
   "cell_type": "markdown",
   "id": "c88ccb4f-a5aa-4af3-9984-174acbafa307",
   "metadata": {},
   "source": [
    "* SQL\n",
    "* Python\n",
    "* Julia\n",
    "* R"
   ]
  },
  {
   "cell_type": "markdown",
   "id": "3f160f84-fc44-4106-bb99-76c9f187f298",
   "metadata": {},
   "source": [
    "Some of the popular languages that Data Scientists use are:\n"
   ]
  },
  {
   "cell_type": "markdown",
   "id": "453cd59d-e86c-4478-bf15-adc066c9f1a9",
   "metadata": {},
   "source": [
    "1. R\n",
    "2. Python\n",
    "3. Julia"
   ]
  },
  {
   "cell_type": "markdown",
   "id": "d0cfa71f-3769-40a7-8508-f813ac90511c",
   "metadata": {},
   "source": [
    "Some of the commonly used libraries used by Data Scientists include:\n"
   ]
  },
  {
   "cell_type": "markdown",
   "id": "69518827-6a08-4a02-9f99-06f3f5e99876",
   "metadata": {},
   "source": [
    "1. ggplot\n",
    "2. NumPy\n",
    "3. dplyr\n",
    "4. stringr"
   ]
  },
  {
   "cell_type": "markdown",
   "id": "f2530dc7-2bdb-4bd4-bf5c-7958cf840426",
   "metadata": {},
   "source": [
    "|Data Science Tools|\n",
    "|------------------|\n",
    "| TensorFlow |\n",
    "| ApacheSpark|\n",
    "|RStudio|"
   ]
  },
  {
   "cell_type": "markdown",
   "id": "009a2ad8-767b-4f07-aad0-97d4e179a6aa",
   "metadata": {},
   "source": [
    "### Below are a few examples of evaluating arithmetic expressions in Python.\n",
    "\n"
   ]
  },
  {
   "cell_type": "code",
   "execution_count": null,
   "id": "71eb0fb1-7cfc-4ec7-8d3c-aeed1781d2d9",
   "metadata": {},
   "outputs": [],
   "source": [
    "#This a simple arithmetic expression to multiply then add integers."
   ]
  },
  {
   "cell_type": "code",
   "execution_count": 9,
   "id": "568310fc-2949-45a0-ac63-1caaf44458ea",
   "metadata": {},
   "outputs": [
    {
     "data": {
      "text/plain": [
       "17"
      ]
     },
     "execution_count": 9,
     "metadata": {},
     "output_type": "execute_result"
    }
   ],
   "source": [
    "(3*4)+5"
   ]
  },
  {
   "cell_type": "code",
   "execution_count": null,
   "id": "e93d28b0-93dc-4dee-b0dd-3112e90e4fc5",
   "metadata": {},
   "outputs": [],
   "source": [
    "#This will convert 200 minutes to hours by diving by 60.\n"
   ]
  },
  {
   "cell_type": "code",
   "execution_count": 19,
   "id": "115a7fea-abd0-432f-8215-961d77c2b16a",
   "metadata": {},
   "outputs": [
    {
     "data": {
      "text/plain": [
       "3.3333333333333335"
      ]
     },
     "execution_count": 19,
     "metadata": {},
     "output_type": "execute_result"
    }
   ],
   "source": [
    "200/60"
   ]
  },
  {
   "cell_type": "markdown",
   "id": "74ffa47c-0002-40d8-8133-4c8a99c31f29",
   "metadata": {},
   "source": [
    "## Author"
   ]
  },
  {
   "cell_type": "markdown",
   "id": "7ff06833-cc2e-4095-a965-86f6c174cd03",
   "metadata": {},
   "source": [
    "Khushi Jaiswal"
   ]
  },
  {
   "cell_type": "code",
   "execution_count": null,
   "id": "897588ec-768c-4cd9-842c-96a2ffabd251",
   "metadata": {},
   "outputs": [],
   "source": []
  }
 ],
 "metadata": {
  "kernelspec": {
   "display_name": "anaconda-2024.02-py310",
   "language": "python",
   "name": "conda-env-anaconda-2024.02-py310-py"
  },
  "language_info": {
   "codemirror_mode": {
    "name": "ipython",
    "version": 3
   },
   "file_extension": ".py",
   "mimetype": "text/x-python",
   "name": "python",
   "nbconvert_exporter": "python",
   "pygments_lexer": "ipython3",
   "version": "3.10.14"
  }
 },
 "nbformat": 4,
 "nbformat_minor": 5
}
